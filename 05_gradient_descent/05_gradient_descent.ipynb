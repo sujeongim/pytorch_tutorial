{
 "cells": [
  {
   "cell_type": "markdown",
   "metadata": {},
   "source": [
    "# Practice 1"
   ]
  },
  {
   "cell_type": "code",
   "execution_count": 5,
   "metadata": {},
   "outputs": [
    {
     "name": "stdout",
     "output_type": "stream",
     "text": [
      "Prediction before traninig : f(5) = 0.000\n",
      "epoch 1 : w = 1.200, loss = 30.00000000\n",
      "epoch 2 : w = 1.680, loss = 4.79999924\n",
      "epoch 3 : w = 1.872, loss = 0.76800019\n",
      "epoch 4 : w = 1.949, loss = 0.12288000\n",
      "epoch 5 : w = 1.980, loss = 0.01966083\n",
      "epoch 6 : w = 1.992, loss = 0.00314570\n",
      "epoch 7 : w = 1.997, loss = 0.00050332\n",
      "epoch 8 : w = 1.999, loss = 0.00008053\n",
      "epoch 9 : w = 1.999, loss = 0.00001288\n",
      "epoch 10 : w = 2.000, loss = 0.00000206\n",
      "Prediction after traninig : f(5) = 9.999\n"
     ]
    }
   ],
   "source": [
    "import numpy as np\n",
    "\n",
    "# f = w + x\n",
    "\n",
    "# f = 2 * x\n",
    "x = np.array([1, 2, 3, 4], dtype=np.float32)\n",
    "y = np.array([2, 4, 6, 8], dtype=np.float32)\n",
    "\n",
    "w = 0.0\n",
    "\n",
    "\n",
    "# model prediction\n",
    "def forward(x):\n",
    "    return w * x\n",
    "\n",
    "# loss = MSE\n",
    "def loss(y, y_predicted):\n",
    "    return ((y_predicted-y)**2).mean()\n",
    "\n",
    "# gradient\n",
    "# y_predicted = w * x\n",
    "# MSE = 1/N * (w * x - y)**2\n",
    "# dJ/dw = 1/N * 2 * (w * x - y) * x\n",
    "# 1/N -> mean() \n",
    "def gradient(x, y, y_predicted):\n",
    "    return np.dot(2*x, y_predicted-y).mean()\n",
    "\n",
    "print(f'Prediction before traninig : f(5) = {forward(5):.3f}')\n",
    "# Training\n",
    "learning_rate = 0.01\n",
    "n_iters = 10\n",
    "for epoch in range(n_iters):\n",
    "    y_hat = forward(x)\n",
    "    \n",
    "    # loss\n",
    "    l = loss(y, y_hat)\n",
    "\n",
    "    # gradients\n",
    "    dw = gradient(x, y, y_hat)\n",
    "\n",
    "    # update weights\n",
    "    w = w - learning_rate * dw\n",
    "\n",
    "    # print inform\n",
    "    if epoch % 1 == 0 :\n",
    "        print(f\"epoch {epoch+1} : w = {w:.3f}, loss = {l:.8f}\")\n",
    "\n",
    "    \n",
    "print(f'Prediction after traninig : f(5) = {forward(5):.3f}')"
   ]
  },
  {
   "cell_type": "markdown",
   "metadata": {},
   "source": [
    "# Practice 2"
   ]
  },
  {
   "cell_type": "code",
   "execution_count": 8,
   "metadata": {},
   "outputs": [
    {
     "name": "stdout",
     "output_type": "stream",
     "text": [
      "Prediction before traninig : f(5) = 0.000\n",
      "epoch 1 : w = 0.300, loss = 30.00000000\n",
      "epoch 11 : w = 1.665, loss = 1.16278565\n",
      "epoch 21 : w = 1.934, loss = 0.04506890\n",
      "epoch 31 : w = 1.987, loss = 0.00174685\n",
      "epoch 41 : w = 1.997, loss = 0.00006770\n",
      "epoch 51 : w = 1.999, loss = 0.00000262\n",
      "epoch 61 : w = 2.000, loss = 0.00000010\n",
      "epoch 71 : w = 2.000, loss = 0.00000000\n",
      "epoch 81 : w = 2.000, loss = 0.00000000\n",
      "epoch 91 : w = 2.000, loss = 0.00000000\n",
      "Prediction after traninig : f(5) = 10.000\n"
     ]
    }
   ],
   "source": [
    "import torch\n",
    "\n",
    "# f = w + x\n",
    "\n",
    "# f = 2 * x\n",
    "X = torch.tensor([1, 2, 3, 4], dtype=torch.float32)\n",
    "Y = torch.tensor([2, 4, 6, 8], dtype=torch.float32)\n",
    "\n",
    "w = torch.tensor(0.0, dtype=torch.float32, requires_grad=True)\n",
    "\n",
    "\n",
    "# model prediction\n",
    "def forward(x):\n",
    "    return w * x\n",
    "\n",
    "# loss = MSE\n",
    "def loss(y, y_predicted):\n",
    "    return ((y_predicted-y)**2).mean()\n",
    "\n",
    "\n",
    "print(f'Prediction before traninig : f(5) = {forward(5):.3f}')\n",
    "# Training\n",
    "learning_rate = 0.01\n",
    "n_iters = 100\n",
    "for epoch in range(n_iters):\n",
    "    y_hat = forward(X)\n",
    "    \n",
    "    # loss\n",
    "    l = loss(Y, y_hat)\n",
    "\n",
    "    # gradients with autograd = backward pass\n",
    "    l.backward() # dl/dw\n",
    "    dw = w.grad\n",
    "\n",
    "    # update weights\n",
    "    with torch.no_grad():\n",
    "        # inplace 함수로 해야 오류 안남\n",
    "        # w = w - learning_rate * dw 는 새로운 텐서로 할당이 되어버려서 오류남 \n",
    "        # (https://discuss.pytorch.org/t/nonetype-object-has-no-attribute-zero/61013/2)\n",
    "        w -= learning_rate * dw\n",
    "\n",
    "\n",
    "    # zero_gradients\n",
    "    w.grad.zero_()\n",
    "\n",
    "    # print inform\n",
    "    if epoch % 10 == 0 :\n",
    "        print(f\"epoch {epoch+1} : w = {w:.3f}, loss = {l:.8f}\")\n",
    "\n",
    "    \n",
    "print(f'Prediction after traninig : f(5) = {forward(5):.3f}')"
   ]
  },
  {
   "cell_type": "code",
   "execution_count": null,
   "metadata": {},
   "outputs": [],
   "source": []
  }
 ],
 "metadata": {
  "interpreter": {
   "hash": "2e22769a2f415e715c8de30e0c105102333e31bf626ae6886f4b46712f0b5c6e"
  },
  "kernelspec": {
   "display_name": "Python 3.9.7 ('base')",
   "language": "python",
   "name": "python3"
  },
  "language_info": {
   "codemirror_mode": {
    "name": "ipython",
    "version": 3
   },
   "file_extension": ".py",
   "mimetype": "text/x-python",
   "name": "python",
   "nbconvert_exporter": "python",
   "pygments_lexer": "ipython3",
   "version": "3.9.7"
  },
  "orig_nbformat": 4
 },
 "nbformat": 4,
 "nbformat_minor": 2
}
