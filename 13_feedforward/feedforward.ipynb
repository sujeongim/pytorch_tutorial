{
 "cells": [
  {
   "cell_type": "markdown",
   "metadata": {},
   "source": [
    "# Total Process\n",
    "\n",
    "- MNIST\n",
    "- DataLoader, Transformation\n",
    "- Multilayer Neural Net, activation function\n",
    "- Loss and Optimizer\n",
    "- Traninig Loop (batch training)\n",
    "- Model evaluation\n",
    "- GPU support"
   ]
  },
  {
   "cell_type": "markdown",
   "metadata": {},
   "source": [
    "## Settings"
   ]
  },
  {
   "cell_type": "code",
   "execution_count": 86,
   "metadata": {},
   "outputs": [],
   "source": [
    "# import\n",
    "import torch\n",
    "import torch.nn as nn\n",
    "from torch.utils.data import Dataset, DataLoader\n",
    "import torchvision\n",
    "import torchvision.transforms as transforms\n",
    "import matplotlib.pyplot as plt\n",
    "\n",
    "# device config\n",
    "device = torch.device(\"cuda\" if torch.cuda.is_available() else 'cpu')\n",
    "\n",
    "# hyper parameters\n",
    "input_size = 784 # 28 * 28\n",
    "hidden_size = 100\n",
    "num_class = 10\n",
    "num_epochs = 10\n",
    "batch_size = 100\n",
    "learning_rate = 0.001\n",
    "split_ratio = 0.8"
   ]
  },
  {
   "cell_type": "code",
   "execution_count": 44,
   "metadata": {},
   "outputs": [],
   "source": [
    "import random\n",
    "import torch.backends.cudnn as cudnn\n",
    "\n",
    "torch.manual_seed(4)\n",
    "torch.cuda.manual_seed(4)\n",
    "torch.cuda.manual_seed_all(4)\n",
    "random.seed(4)"
   ]
  },
  {
   "cell_type": "markdown",
   "metadata": {},
   "source": [
    "## 0) Prepare Dataset"
   ]
  },
  {
   "cell_type": "code",
   "execution_count": 71,
   "metadata": {},
   "outputs": [
    {
     "name": "stdout",
     "output_type": "stream",
     "text": [
      "60000\n"
     ]
    }
   ],
   "source": [
    "# 0) Prepare Dataset\n",
    "\n",
    "## transform\n",
    "mnist_transform = transforms.Compose([\n",
    "    transforms.ToTensor(),\n",
    "    transforms.Normalize((0.5,), (1.0,))\n",
    "])\n",
    "\n",
    "## data\n",
    "train_dataset = torchvision.datasets.MNIST(root='./data', \n",
    "                                        train=True,\n",
    "                                        transform=mnist_transform,\n",
    "                                        download=True)\n",
    "test_dataset = torchvision.datasets.MNIST(root='./data', \n",
    "                                        train=False, \n",
    "                                        transform=mnist_transform,\n",
    "                                        download=True)\n",
    "\n",
    "\n",
    "\n",
    "# train, valid split\n",
    "print(len(train_dataset))\n",
    "train_num = int(len(train_dataset) * split_ratio)\n",
    "train_dataset, valid_dataset = torch.utils.data.random_split(train_dataset, [train_num, len(train_dataset)-train_num])\n",
    "\n",
    "\n",
    "## dataloader\n",
    "trainloader = DataLoader(dataset=train_dataset,\n",
    "                        batch_size=batch_size,\n",
    "                        shuffle=True)\n",
    "validloader = DataLoader(dataset=valid_dataset,\n",
    "                        batch_size=batch_size,\n",
    "                        shuffle=False)\n",
    "testloader = DataLoader(dataset=test_dataset,\n",
    "                        batch_size=batch_size,\n",
    "                        shuffle=False)\n"
   ]
  },
  {
   "cell_type": "code",
   "execution_count": 80,
   "metadata": {},
   "outputs": [
    {
     "name": "stdout",
     "output_type": "stream",
     "text": [
      "torch.Size([64, 1, 28, 28]) torch.Size([64])\n"
     ]
    }
   ],
   "source": [
    "# sample test\n",
    "examples = iter(trainloader)\n",
    "samples, labels = examples.next()\n",
    "print(samples.shape, labels.shape)"
   ]
  },
  {
   "cell_type": "code",
   "execution_count": 83,
   "metadata": {},
   "outputs": [
    {
     "name": "stdout",
     "output_type": "stream",
     "text": [
      "torch.Size([64, 1, 28, 28]) torch.Size([64])\n"
     ]
    },
    {
     "data": {
      "text/plain": [
       "tensor([1, 0, 2, 6, 3, 9, 0, 1, 2, 9, 1, 5, 9, 7, 5, 5, 0, 3, 6, 9, 9, 8, 2, 0,\n",
       "        4, 3, 0, 3, 3, 1, 0, 2, 6, 7, 1, 4, 5, 7, 8, 1, 8, 7, 9, 0, 8, 6, 7, 3,\n",
       "        9, 8, 2, 4, 2, 0, 9, 8, 0, 7, 2, 2, 6, 4, 5, 2])"
      ]
     },
     "execution_count": 83,
     "metadata": {},
     "output_type": "execute_result"
    }
   ],
   "source": [
    "# sample test2\n",
    "examples = iter(testloader)\n",
    "samples, labels = examples.next()\n",
    "print(samples.shape, labels.shape)\n",
    "labels"
   ]
  },
  {
   "cell_type": "code",
   "execution_count": 81,
   "metadata": {},
   "outputs": [
    {
     "data": {
      "image/png": "[encoded data removed]",
      "text/plain": [
       "<Figure size 432x288 with 6 Axes>"
      ]
     },
     "metadata": {
      "needs_background": "light"
     },
     "output_type": "display_data"
    }
   ],
   "source": [
    "# show image\n",
    "for i in range(6):\n",
    "    plt.subplot(2, 3, i+1)\n",
    "    plt.imshow(samples[i][0], cmap='gray')\n",
    "plt.show()"
   ]
  },
  {
   "cell_type": "markdown",
   "metadata": {},
   "source": [
    "## 1) Model"
   ]
  },
  {
   "cell_type": "code",
   "execution_count": 66,
   "metadata": {},
   "outputs": [],
   "source": [
    "# 1) Model\n",
    "class MNISTclassification(nn.Module):\n",
    "    def __init__(self, input_size, hidden_size, num_classes):\n",
    "        super(MNISTclassification, self).__init__()\n",
    "        self.linear1 = nn.Linear(input_size, hidden_size)\n",
    "        self.relu = nn.ReLU()\n",
    "        self.linear2 = nn.Linear(hidden_size, num_classes)\n",
    "\n",
    "    def forward(self, x):\n",
    "        out = self.linear1(x)\n",
    "        out = self.relu(out)\n",
    "        out = self.linear2(out)\n",
    "        return out\n"
   ]
  },
  {
   "cell_type": "code",
   "execution_count": 67,
   "metadata": {},
   "outputs": [],
   "source": [
    "model = MNISTclassification(input_size=input_size, hidden_size=hidden_size, num_classes=num_class)"
   ]
  },
  {
   "cell_type": "markdown",
   "metadata": {},
   "source": [
    "## 2) Loss and Optimizer"
   ]
  },
  {
   "cell_type": "code",
   "execution_count": 75,
   "metadata": {},
   "outputs": [],
   "source": [
    "# 2) Loss and Optimizer\n",
    "learning_rate = 1e-5\n",
    "criterion = nn.CrossEntropyLoss()\n",
    "optimizer = torch.optim.Adam(params=model.parameters(),lr=learning_rate)"
   ]
  },
  {
   "cell_type": "markdown",
   "metadata": {},
   "source": [
    "## 3) Training Loop"
   ]
  },
  {
   "cell_type": "code",
   "execution_count": 87,
   "metadata": {},
   "outputs": [
    {
     "name": "stdout",
     "output_type": "stream",
     "text": [
      "Epoch 0\n",
      "Train\n",
      "iter 1/10, step 100 /750 : train_loss = 0.6158\n",
      "iter 1/10, step 200 /750 : train_loss = 0.5617\n",
      "iter 1/10, step 300 /750 : train_loss = 0.4358\n",
      "iter 1/10, step 400 /750 : train_loss = 0.4681\n",
      "iter 1/10, step 500 /750 : train_loss = 0.4589\n",
      "iter 1/10, step 600 /750 : train_loss = 0.6263\n",
      "iter 1/10, step 700 /750 : train_loss = 0.5341\n",
      "avg_train_loss=0.5382\n",
      "Eval\n",
      "avg_valid_loss=0.5266, acc = 86.94166666666666\n",
      "Epoch 1\n",
      "Train\n",
      "iter 2/10, step 100 /750 : train_loss = 0.3874\n",
      "iter 2/10, step 200 /750 : train_loss = 0.4904\n",
      "iter 2/10, step 300 /750 : train_loss = 0.4254\n",
      "iter 2/10, step 400 /750 : train_loss = 0.4760\n",
      "iter 2/10, step 500 /750 : train_loss = 0.4990\n",
      "iter 2/10, step 600 /750 : train_loss = 0.5735\n",
      "iter 2/10, step 700 /750 : train_loss = 0.4114\n",
      "avg_train_loss=0.5144\n",
      "Eval\n",
      "avg_valid_loss=0.5054, acc = 87.19166666666666\n",
      "Epoch 2\n",
      "Train\n",
      "iter 3/10, step 100 /750 : train_loss = 0.4131\n",
      "iter 3/10, step 200 /750 : train_loss = 0.6181\n",
      "iter 3/10, step 300 /750 : train_loss = 0.5179\n",
      "iter 3/10, step 400 /750 : train_loss = 0.3816\n",
      "iter 3/10, step 500 /750 : train_loss = 0.5289\n",
      "iter 3/10, step 600 /750 : train_loss = 0.5849\n",
      "iter 3/10, step 700 /750 : train_loss = 0.4445\n",
      "avg_train_loss=0.4940\n",
      "Eval\n",
      "avg_valid_loss=0.4868, acc = 87.55833333333334\n",
      "Epoch 3\n",
      "Train\n",
      "iter 4/10, step 100 /750 : train_loss = 0.4924\n",
      "iter 4/10, step 200 /750 : train_loss = 0.5284\n",
      "iter 4/10, step 300 /750 : train_loss = 0.5359\n",
      "iter 4/10, step 400 /750 : train_loss = 0.5072\n",
      "iter 4/10, step 500 /750 : train_loss = 0.3692\n",
      "iter 4/10, step 600 /750 : train_loss = 0.4365\n",
      "iter 4/10, step 700 /750 : train_loss = 0.4642\n",
      "avg_train_loss=0.4765\n",
      "Eval\n",
      "avg_valid_loss=0.4706, acc = 87.7\n",
      "Epoch 4\n",
      "Train\n",
      "iter 5/10, step 100 /750 : train_loss = 0.4037\n",
      "iter 5/10, step 200 /750 : train_loss = 0.4068\n",
      "iter 5/10, step 300 /750 : train_loss = 0.4528\n",
      "iter 5/10, step 400 /750 : train_loss = 0.5663\n",
      "iter 5/10, step 500 /750 : train_loss = 0.5549\n",
      "iter 5/10, step 600 /750 : train_loss = 0.4969\n",
      "iter 5/10, step 700 /750 : train_loss = 0.4660\n",
      "avg_train_loss=0.4615\n",
      "Eval\n",
      "avg_valid_loss=0.4570, acc = 87.98333333333333\n",
      "Epoch 5\n",
      "Train\n",
      "iter 6/10, step 100 /750 : train_loss = 0.3626\n",
      "iter 6/10, step 200 /750 : train_loss = 0.2962\n",
      "iter 6/10, step 300 /750 : train_loss = 0.3537\n",
      "iter 6/10, step 400 /750 : train_loss = 0.5685\n",
      "iter 6/10, step 500 /750 : train_loss = 0.4466\n",
      "iter 6/10, step 600 /750 : train_loss = 0.3908\n",
      "iter 6/10, step 700 /750 : train_loss = 0.4442\n",
      "avg_train_loss=0.4484\n",
      "Eval\n",
      "avg_valid_loss=0.4451, acc = 88.11666666666666\n",
      "Epoch 6\n",
      "Train\n",
      "iter 7/10, step 100 /750 : train_loss = 0.5564\n",
      "iter 7/10, step 200 /750 : train_loss = 0.4315\n",
      "iter 7/10, step 300 /750 : train_loss = 0.3210\n",
      "iter 7/10, step 400 /750 : train_loss = 0.3620\n",
      "iter 7/10, step 500 /750 : train_loss = 0.4732\n",
      "iter 7/10, step 600 /750 : train_loss = 0.3501\n",
      "iter 7/10, step 700 /750 : train_loss = 0.4411\n",
      "avg_train_loss=0.4368\n",
      "Eval\n",
      "avg_valid_loss=0.4338, acc = 88.35833333333333\n",
      "Epoch 7\n",
      "Train\n",
      "iter 8/10, step 100 /750 : train_loss = 0.3369\n",
      "iter 8/10, step 200 /750 : train_loss = 0.4491\n",
      "iter 8/10, step 300 /750 : train_loss = 0.5597\n",
      "iter 8/10, step 400 /750 : train_loss = 0.6124\n",
      "iter 8/10, step 500 /750 : train_loss = 0.3052\n",
      "iter 8/10, step 600 /750 : train_loss = 0.3945\n",
      "iter 8/10, step 700 /750 : train_loss = 0.4577\n",
      "avg_train_loss=0.4266\n",
      "Eval\n",
      "avg_valid_loss=0.4250, acc = 88.55833333333334\n",
      "Epoch 8\n",
      "Train\n",
      "iter 9/10, step 100 /750 : train_loss = 0.3231\n",
      "iter 9/10, step 200 /750 : train_loss = 0.2491\n",
      "iter 9/10, step 300 /750 : train_loss = 0.5947\n",
      "iter 9/10, step 400 /750 : train_loss = 0.5429\n",
      "iter 9/10, step 500 /750 : train_loss = 0.3305\n",
      "iter 9/10, step 600 /750 : train_loss = 0.3444\n",
      "iter 9/10, step 700 /750 : train_loss = 0.3269\n",
      "avg_train_loss=0.4175\n",
      "Eval\n",
      "avg_valid_loss=0.4165, acc = 88.75833333333334\n",
      "Epoch 9\n",
      "Train\n",
      "iter 10/10, step 100 /750 : train_loss = 0.3060\n",
      "iter 10/10, step 200 /750 : train_loss = 0.1947\n",
      "iter 10/10, step 300 /750 : train_loss = 0.4475\n",
      "iter 10/10, step 400 /750 : train_loss = 0.4422\n",
      "iter 10/10, step 500 /750 : train_loss = 0.3998\n",
      "iter 10/10, step 600 /750 : train_loss = 0.3840\n",
      "iter 10/10, step 700 /750 : train_loss = 0.5086\n",
      "avg_train_loss=0.4093\n",
      "Eval\n",
      "avg_valid_loss=0.4085, acc = 88.85\n"
     ]
    }
   ],
   "source": [
    "# 3) Training Loop\n",
    "train_loss = []\n",
    "valid_loss = []\n",
    "n_total_steps = len(trainloader)\n",
    "for epoch in range(num_epochs):\n",
    "    print(f\"Epoch {epoch}\")\n",
    "    model.train()\n",
    "    total_loss = 0\n",
    "    print(\"Train\")\n",
    "    for i, (images, labels) in enumerate(trainloader):\n",
    "        # reshape\n",
    "        images = images.reshape(-1, 28 * 28).to(device)\n",
    "        labels = labels.to(device)\n",
    "\n",
    "        # forward\n",
    "        outputs = model(images)\n",
    "\n",
    "        # loss\n",
    "        loss = criterion(outputs, labels)\n",
    "        total_loss += loss.item()\n",
    "\n",
    "        \n",
    "        # reset\n",
    "        optimizer.zero_grad()\n",
    "        # backprop\n",
    "        loss.backward()\n",
    "        # update\n",
    "        optimizer.step()\n",
    "        \n",
    "        \n",
    "        # print\n",
    "        if (i+1) % 100 ==0:\n",
    "            print(f\"iter {epoch+1}/{num_epochs}, step {i+1} /{n_total_steps} : train_loss = {loss.item():.4f}\")\n",
    "    print(f\"avg_train_loss={total_loss/len(trainloader):.4f}\")\n",
    "    train_loss.append(total_loss/len(trainloader))\n",
    "    \n",
    "    \n",
    "    print(\"Eval\")\n",
    "    with torch.no_grad():\n",
    "        model.eval()\n",
    "        total_loss_val = 0\n",
    "        n_samples = 0\n",
    "        n_correct = 0\n",
    "        for j, (images, labels) in enumerate(validloader):\n",
    "            images = images.view(-1, 28 * 28).to(device)\n",
    "            labels = labels.to(device)\n",
    "\n",
    "            # forward\n",
    "            outputs = model(images)\n",
    "\n",
    "            # predictions # return : max_value, max_index\n",
    "            _, predictions = torch.max(outputs, 1)\n",
    "            n_samples += labels.shape[0]\n",
    "            n_correct += (predictions==labels).sum().item()\n",
    "\n",
    "            # loss\n",
    "            loss_val = criterion(outputs, labels)\n",
    "            total_loss_val+=loss_val.item()\n",
    "        \n",
    "        acc = 100.0 * n_correct / n_samples\n",
    "        print(f\"avg_valid_loss={total_loss_val/len(validloader):.4f}, acc = {acc}\")\n",
    "        valid_loss.append(total_loss_val/len(validloader))\n"
   ]
  },
  {
   "cell_type": "code",
   "execution_count": 88,
   "metadata": {},
   "outputs": [
    {
     "data": {
      "image/png": "[encoded data removed]",
      "text/plain": [
       "<Figure size 432x288 with 1 Axes>"
      ]
     },
     "metadata": {
      "needs_background": "light"
     },
     "output_type": "display_data"
    }
   ],
   "source": [
    "# plot\n",
    "import matplotlib.pyplot as plt\n",
    "plt.plot(train_loss, color=\"b\")\n",
    "plt.show()"
   ]
  },
  {
   "cell_type": "code",
   "execution_count": 89,
   "metadata": {},
   "outputs": [
    {
     "data": {
      "text/plain": [
       "[<matplotlib.lines.Line2D at 0x7fd1e1d1bf40>]"
      ]
     },
     "execution_count": 89,
     "metadata": {},
     "output_type": "execute_result"
    },
    {
     "data": {
      "image/png": "[encoded data removed]",
      "text/plain": [
       "<Figure size 432x288 with 1 Axes>"
      ]
     },
     "metadata": {
      "needs_background": "light"
     },
     "output_type": "display_data"
    }
   ],
   "source": [
    "plt.plot(valid_loss, color=\"r\")"
   ]
  },
  {
   "cell_type": "markdown",
   "metadata": {},
   "source": [
    "## 4) Test"
   ]
  },
  {
   "cell_type": "code",
   "execution_count": null,
   "metadata": {},
   "outputs": [],
   "source": [
    "# 4) Test\n",
    "model.eval()\n",
    "for i, (x_test, y_test) in enumerate(testloader):\n",
    "    \n",
    "    x_test = x_test.view(-1, 1 * 28 * 28)\n",
    "\n",
    "    y_pred = model(x_test)\n",
    "    y_pred_class = torch.argmax(y_pred, axis=1)\n",
    "    \n",
    "    for \n"
   ]
  }
 ],
 "metadata": {
  "kernelspec": {
   "display_name": "Python 3.9.7 ('base')",
   "language": "python",
   "name": "python3"
  },
  "language_info": {
   "codemirror_mode": {
    "name": "ipython",
    "version": 3
   },
   "file_extension": ".py",
   "mimetype": "text/x-python",
   "name": "python",
   "nbconvert_exporter": "python",
   "pygments_lexer": "ipython3",
   "version": "3.9.7"
  },
  "orig_nbformat": 4,
  "vscode": {
   "interpreter": {
    "hash": "2e22769a2f415e715c8de30e0c105102333e31bf626ae6886f4b46712f0b5c6e"
   }
  }
 },
 "nbformat": 4,
 "nbformat_minor": 2
}
