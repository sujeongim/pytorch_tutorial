{
 "cells": [
  {
   "cell_type": "markdown",
   "metadata": {},
   "source": [
    "1) Design model (input, output, forward pass)\n",
    "2) Construct loss and optimizer\n",
    "3) Training Loop\n",
    "   - forward pass : compute prediction and loss\n",
    "   - backward pass : gradients\n",
    "   - update weights"
   ]
  },
  {
   "cell_type": "code",
   "execution_count": 8,
   "metadata": {},
   "outputs": [
    {
     "name": "stdout",
     "output_type": "stream",
     "text": [
      "epoch 50 : loss = 1447.0724\n",
      "epoch 100 : loss = 561.5026\n",
      "epoch 150 : loss = 380.1031\n",
      "epoch 200 : loss = 342.5050\n",
      "epoch 250 : loss = 334.6537\n",
      "epoch 300 : loss = 333.0067\n",
      "epoch 350 : loss = 332.6602\n",
      "epoch 400 : loss = 332.5871\n",
      "epoch 450 : loss = 332.5717\n",
      "epoch 500 : loss = 332.5684\n"
     ]
    },
    {
     "data": {
      "image/png": "[encoded data removed]",
      "text/plain": [
       "<Figure size 432x288 with 1 Axes>"
      ]
     },
     "metadata": {
      "needs_background": "light"
     },
     "output_type": "display_data"
    }
   ],
   "source": [
    "import torch\n",
    "import torch.nn as nn # neural network\n",
    "import numpy as np\n",
    "from sklearn import datasets\n",
    "import matplotlib.pyplot as plt\n",
    "\n",
    "'''0) prepare data'''\n",
    "X_numpy, y_numpy = datasets.make_regression(n_samples=100, n_features=1, noise=20, random_state=1)\n",
    "\n",
    "X = torch.from_numpy(X_numpy.astype(np.float32))\n",
    "y = torch.from_numpy(y_numpy.astype(np.float32))\n",
    "#|y| = (100,)\n",
    "y = y.view(y.shape[0], 1)\n",
    "#|y| = (100,1)\n",
    "\n",
    "n_samples, n_features = X.shape\n",
    "\n",
    "'''1) model'''\n",
    "input_size = n_features\n",
    "output_size = 1\n",
    "model = nn.Linear(input_size, output_size)\n",
    "\n",
    "'''2) loss and optimizer'''\n",
    "learning_rate = 0.01\n",
    "criterion = nn.MSELoss()\n",
    "optimizer=torch.optim.SGD(model.parameters(), lr=learning_rate)\n",
    "\n",
    "\n",
    "'''3) training loop'''\n",
    "num_iters = 500\n",
    "for epoch in range(num_iters):\n",
    "    # forward pass and loss\n",
    "    y_pred = model(X)\n",
    "    loss = criterion(y_pred, y)\n",
    "\n",
    "    # backward pass\n",
    "    loss.backward()\n",
    "\n",
    "    # update weights\n",
    "    optimizer.step()\n",
    "\n",
    "    # zero_grad (empty grad)\n",
    "    optimizer.zero_grad()\n",
    "\n",
    "    # print results\n",
    "    if (epoch + 1) % 50 ==0:\n",
    "        print(f\"epoch {epoch+1} : loss = {loss.item():.4f}\")\n",
    "\n",
    "# plot\n",
    "predicted = model(X).detach().numpy() # detach() -> gradient 저장 안한다.\n",
    "plt.plot(X_numpy, y_numpy, \"ro\")\n",
    "plt.plot(X_numpy, predicted, \"b\")\n",
    "plt.show()\n",
    "\n",
    "\n",
    "\n"
   ]
  },
  {
   "cell_type": "code",
   "execution_count": null,
   "metadata": {},
   "outputs": [],
   "source": []
  }
 ],
 "metadata": {
  "interpreter": {
   "hash": "2e22769a2f415e715c8de30e0c105102333e31bf626ae6886f4b46712f0b5c6e"
  },
  "kernelspec": {
   "display_name": "Python 3.9.7 ('base')",
   "language": "python",
   "name": "python3"
  },
  "language_info": {
   "codemirror_mode": {
    "name": "ipython",
    "version": 3
   },
   "file_extension": ".py",
   "mimetype": "text/x-python",
   "name": "python",
   "nbconvert_exporter": "python",
   "pygments_lexer": "ipython3",
   "version": "3.9.7"
  },
  "orig_nbformat": 4
 },
 "nbformat": 4,
 "nbformat_minor": 2
}
